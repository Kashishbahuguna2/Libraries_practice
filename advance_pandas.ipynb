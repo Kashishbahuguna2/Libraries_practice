{
 "cells": [
  {
   "cell_type": "code",
   "execution_count": 1,
   "id": "c7d89803-ec16-4f17-9eeb-d00b59dea48d",
   "metadata": {},
   "outputs": [
    {
     "name": "stdout",
     "output_type": "stream",
     "text": [
      "the simple data frame\n",
      "    name  age  salary\n",
      "0    ram   22   10000\n",
      "1  rohan   26   50000\n",
      "2  geeta   28   30000\n",
      "3  rahul   29  400000\n",
      "4  sonam   45   23000\n",
      "5   siya   23  900000\n",
      "6   aman   33  240000\n",
      "7  pooja   24  700000\n",
      "added new column by using simple method \n",
      "    name  age  salary   bonus\n",
      "0    ram   22   10000   100.0\n",
      "1  rohan   26   50000   500.0\n",
      "2  geeta   28   30000   300.0\n",
      "3  rahul   29  400000  4000.0\n",
      "4  sonam   45   23000   230.0\n",
      "5   siya   23  900000  9000.0\n",
      "6   aman   33  240000  2400.0\n",
      "7  pooja   24  700000  7000.0\n",
      "added a new column by using insert method\n",
      "   empoley_id   name  age  salary   bonus\n",
      "0          10    ram   22   10000   100.0\n",
      "1          20  rohan   26   50000   500.0\n",
      "2          30  geeta   28   30000   300.0\n",
      "3          40  rahul   29  400000  4000.0\n",
      "4          50  sonam   45   23000   230.0\n",
      "5          60   siya   23  900000  9000.0\n",
      "6          70   aman   33  240000  2400.0\n",
      "7          80  pooja   24  700000  7000.0\n"
     ]
    }
   ],
   "source": [
    "#adding column or inserting any column \n",
    "import pandas as pd \n",
    "data ={\"name\" : ['ram' , 'rohan' ,'geeta' ,'rahul' ,'sonam' ,'siya' ,'aman' ,'pooja'],\n",
    "       \"age\" : [22 , 26 ,28,29,45,23,33,24],\n",
    "       \"salary\" : [10000 ,50000,30000,400000,23000,900000,240000 , 700000]}\n",
    "            \n",
    "df = pd.DataFrame(data)\n",
    "print(\"the simple data frame\") \n",
    "print(df)\n",
    "\n",
    "df[\"bonus\"] = df[\"salary\"]*0.01\n",
    "print(\"added new column by using simple method \")\n",
    "print(df)\n",
    "\n",
    "df.insert(0 , \"empoley_id\" , [10,20,30,40,50,60,70,80])\n",
    "print(\"added a new column by using insert method\")\n",
    "print(df)"
   ]
  },
  {
   "cell_type": "code",
   "execution_count": 6,
   "id": "cda9fa2f-bdd5-4219-81ef-02d7d56c3299",
   "metadata": {},
   "outputs": [
    {
     "name": "stdout",
     "output_type": "stream",
     "text": [
      "the simple data frame\n",
      "    name  age  salary\n",
      "0    ram   22   10000\n",
      "1  rohan   26   50000\n",
      "2  geeta   28   30000\n",
      "3  rahul   29  400000\n",
      "4  sonam   45   23000\n",
      "5   siya   23  900000\n",
      "6   aman   33  240000\n",
      "7  pooja   24  700000\n",
      "    name  age  salary\n",
      "0    ram   22   15000\n",
      "1  rohan   26   50000\n",
      "2  geeta   28   30000\n",
      "3  rahul   29  400000\n",
      "4  sonam   45   23000\n",
      "5   siya   23  900000\n",
      "6   aman   33  240000\n",
      "7  pooja   24  700000\n",
      "    name  age    salary\n",
      "0    ram   22   15150.0\n",
      "1  rohan   26   50500.0\n",
      "2  geeta   28   30300.0\n",
      "3  rahul   29  404000.0\n",
      "4  sonam   45   23230.0\n",
      "5   siya   23  909000.0\n",
      "6   aman   33  242400.0\n",
      "7  pooja   24  707000.0\n"
     ]
    }
   ],
   "source": [
    "#updating data \n",
    "\n",
    "import pandas as pd \n",
    "data ={\"name\" : ['ram' , 'rohan' ,'geeta' ,'rahul' ,'sonam' ,'siya' ,'aman' ,'pooja'],\n",
    "       \"age\" : [22 , 26 ,28,29,45,23,33,24],\n",
    "       \"salary\" : [10000 ,50000,30000,400000,23000,900000,240000 , 700000]}\n",
    "            \n",
    "df = pd.DataFrame(data)\n",
    "print(\"the simple data frame\")\n",
    "print(df)\n",
    "\n",
    "df.loc[0 , \"salary\"] = 15000\n",
    "print(df)\n",
    "\n",
    "df[\"salary\"] = df[\"salary\"] *1.01\n",
    "print(df)"
   ]
  },
  {
   "cell_type": "code",
   "execution_count": 6,
   "id": "0635c592-958b-4ed1-b583-21bfddad469a",
   "metadata": {},
   "outputs": [
    {
     "name": "stdout",
     "output_type": "stream",
     "text": [
      "    name   age    salary\n",
      "0    ram  22.0   10000.0\n",
      "1   None  26.0   50000.0\n",
      "2  geeta  28.0       NaN\n",
      "3  rahul  29.0  400000.0\n",
      "4  sonam   NaN   23000.0\n",
      "5   siya  23.0  900000.0\n",
      "6   aman  33.0       NaN\n",
      "7   None  24.0  700000.0\n",
      "    name    age  salary\n",
      "0  False  False   False\n",
      "1   True  False   False\n",
      "2  False  False    True\n",
      "3  False  False   False\n",
      "4  False   True   False\n",
      "5  False  False   False\n",
      "6  False  False    True\n",
      "7   True  False   False\n",
      "name      2\n",
      "age       1\n",
      "salary    2\n",
      "dtype: int64\n"
     ]
    }
   ],
   "source": [
    "# MISSING VALUES \n",
    "\n",
    "import pandas as pd \n",
    "data ={\"name\" : ['ram' , None ,'geeta' ,'rahul' ,'sonam' ,'siya' ,'aman' ,None],\n",
    "       \"age\" : [22 , 26 ,28,29, None,23,33,24],\n",
    "       \"salary\" : [10000 ,50000,None,400000,23000,900000,None , 700000]} \n",
    "\n",
    "df = pd.DataFrame(data) \n",
    "print(df)\n",
    "print(df.isnull())\n",
    "print(df.isnull().sum())\n",
    "\n"
   ]
  },
  {
   "cell_type": "code",
   "execution_count": 17,
   "id": "40e02327-1642-4ae1-95fe-f8e315938b30",
   "metadata": {},
   "outputs": [
    {
     "name": "stdout",
     "output_type": "stream",
     "text": [
      "    name   age    salary\n",
      "0    ram  22.0   10000.0\n",
      "3  rahul  29.0  400000.0\n",
      "5   siya  23.0  900000.0\n"
     ]
    }
   ],
   "source": [
    "# missing value \n",
    "# dropna() function - use to drop the missing value \n",
    "#axis = 0 (will drop rows)\n",
    "#axis = 1 (will drop column)\n",
    "\n",
    "import pandas as pd \n",
    "data ={\"name\" : ['ram' , None ,'geeta' ,'rahul' ,'sonam' ,'siya' ,'aman' ,None],\n",
    "       \"age\" : [22 , 26 ,28,29, None,23,33,24],\n",
    "       \"salary\" : [10000 ,50000,None,400000,23000,900000,None , 700000]} \n",
    "\n",
    "df = pd.DataFrame(data) \n",
    "df.dropna( inplace = True ) \n",
    "print(df)\n",
    "\n"
   ]
  },
  {
   "cell_type": "code",
   "execution_count": 26,
   "id": "49756231-b489-4be9-823d-535288e7beb5",
   "metadata": {},
   "outputs": [
    {
     "name": "stdout",
     "output_type": "stream",
     "text": [
      "    name        age         salary\n",
      "0    ram  22.000000   10000.000000\n",
      "1  rohan  26.000000   50000.000000\n",
      "2  geeta  28.000000  347166.666667\n",
      "3  rahul  29.000000  400000.000000\n",
      "4  sonam  26.428571   23000.000000\n",
      "5   siya  23.000000  900000.000000\n",
      "6   aman  33.000000  347166.666667\n",
      "7  rohan  24.000000  700000.000000\n"
     ]
    },
    {
     "name": "stderr",
     "output_type": "stream",
     "text": [
      "C:\\Users\\enggb\\AppData\\Local\\Temp\\ipykernel_28908\\1637722976.py:9: FutureWarning: A value is trying to be set on a copy of a DataFrame or Series through chained assignment using an inplace method.\n",
      "The behavior will change in pandas 3.0. This inplace method will never work because the intermediate object on which we are setting values always behaves as a copy.\n",
      "\n",
      "For example, when doing 'df[col].method(value, inplace=True)', try using 'df.method({col: value}, inplace=True)' or df[col] = df[col].method(value) instead, to perform the operation inplace on the original object.\n",
      "\n",
      "\n",
      "  df[\"age\"].fillna( df[\"age\"].mean() , inplace = True )\n",
      "C:\\Users\\enggb\\AppData\\Local\\Temp\\ipykernel_28908\\1637722976.py:10: FutureWarning: A value is trying to be set on a copy of a DataFrame or Series through chained assignment using an inplace method.\n",
      "The behavior will change in pandas 3.0. This inplace method will never work because the intermediate object on which we are setting values always behaves as a copy.\n",
      "\n",
      "For example, when doing 'df[col].method(value, inplace=True)', try using 'df.method({col: value}, inplace=True)' or df[col] = df[col].method(value) instead, to perform the operation inplace on the original object.\n",
      "\n",
      "\n",
      "  df[\"name\"].fillna(\"rohan\" , inplace= True)\n",
      "C:\\Users\\enggb\\AppData\\Local\\Temp\\ipykernel_28908\\1637722976.py:11: FutureWarning: A value is trying to be set on a copy of a DataFrame or Series through chained assignment using an inplace method.\n",
      "The behavior will change in pandas 3.0. This inplace method will never work because the intermediate object on which we are setting values always behaves as a copy.\n",
      "\n",
      "For example, when doing 'df[col].method(value, inplace=True)', try using 'df.method({col: value}, inplace=True)' or df[col] = df[col].method(value) instead, to perform the operation inplace on the original object.\n",
      "\n",
      "\n",
      "  df[\"salary\"].fillna(df[\"salary\"].mean() , inplace = True)\n"
     ]
    }
   ],
   "source": [
    "# mising values \n",
    "# fillna() function use to fill missing value \n",
    "import pandas as pd \n",
    "data ={\"name\" : ['ram' , None ,'geeta' ,'rahul' ,'sonam' ,'siya' ,'aman' ,None],\n",
    "       \"age\" : [22 , 26 ,28,29, None,23,33,24],\n",
    "       \"salary\" : [10000 ,50000,None,400000,23000,900000,None , 700000]} \n",
    "\n",
    "df = pd.DataFrame(data) \n",
    "df[\"age\"].fillna( df[\"age\"].mean() , inplace = True )\n",
    "df[\"name\"].fillna(\"rohan\" , inplace= True)\n",
    "df[\"salary\"].fillna(df[\"salary\"].mean() , inplace = True)\n",
    "print(df)"
   ]
  },
  {
   "cell_type": "code",
   "execution_count": null,
   "id": "57ecccf4-3a77-4430-910b-f1ae81403a52",
   "metadata": {},
   "outputs": [],
   "source": [
    "# interpolate() function (to fill misisng value )\n",
    "# preserve data intergritity \n",
    "#smooth trend \n",
    "# avoid data loss\n",
    "#method - linear , polynomial , time "
   ]
  },
  {
   "cell_type": "code",
   "execution_count": 28,
   "id": "6a3ef038-7677-4f4e-b3c8-a7af6e32d103",
   "metadata": {},
   "outputs": [
    {
     "name": "stdout",
     "output_type": "stream",
     "text": [
      "before interpolation \n",
      "   time  value\n",
      "0     1   10.0\n",
      "1     2   20.0\n",
      "2     3    NaN\n",
      "3     4   40.0\n",
      "4     5    NaN\n",
      "after interpolation\n",
      "   time  value\n",
      "0     1   10.0\n",
      "1     2   20.0\n",
      "2     3   30.0\n",
      "3     4   40.0\n",
      "4     5   40.0\n"
     ]
    }
   ],
   "source": [
    "import pandas as pd \n",
    "data = {\n",
    "    \"time\" :[1,2,3,4,5], \"value\" :[10,20,None , 40 , None ]}\n",
    "df = pd.DataFrame(data)\n",
    "print(\"before interpolation \")\n",
    "print(df)\n",
    "print(\"after interpolation\")\n",
    "df[\"value\"] = df[\"value\"].interpolate(method = \"linear\") \n",
    "print(df)"
   ]
  },
  {
   "cell_type": "code",
   "execution_count": 34,
   "id": "d6fc1bc3-ff3b-4430-bfbb-75d2bb335752",
   "metadata": {},
   "outputs": [
    {
     "name": "stdout",
     "output_type": "stream",
     "text": [
      "before\n",
      "    name   age    salary\n",
      "0    ram  22.0   10000.0\n",
      "1  Shyam   NaN   50000.0\n",
      "2  geeta  28.0       NaN\n",
      "3  rahul  29.0       NaN\n",
      "4  sonam   NaN   23000.0\n",
      "5   siya  23.0  900000.0\n",
      "6   aman  33.0       NaN\n",
      "7  rekha  24.0  700000.0\n",
      "    name   age    salary\n",
      "0    ram  22.0   10000.0\n",
      "1  Shyam  25.0   50000.0\n",
      "2  geeta  28.0   41000.0\n",
      "3  rahul  29.0   32000.0\n",
      "4  sonam  26.0   23000.0\n",
      "5   siya  23.0  900000.0\n",
      "6   aman  33.0  800000.0\n",
      "7  rekha  24.0  700000.0\n"
     ]
    },
    {
     "name": "stderr",
     "output_type": "stream",
     "text": [
      "C:\\Users\\enggb\\AppData\\Local\\Temp\\ipykernel_28908\\1281545381.py:9: FutureWarning: DataFrame.interpolate with object dtype is deprecated and will raise in a future version. Call obj.infer_objects(copy=False) before interpolating instead.\n",
      "  df.interpolate(method = \"linear\" , inplace = True)\n"
     ]
    }
   ],
   "source": [
    "import pandas as pd \n",
    "data ={\"name\" : ['ram' ,\"Shyam\" ,'geeta' ,'rahul' ,'sonam' ,'siya' ,'aman' ,\"rekha\"],\n",
    "       \"age\" : [22 , None ,28,29, None,23,33,24],\n",
    "       \"salary\" : [10000 ,50000,None,None,23000,900000,None , 700000]} \n",
    "\n",
    "df = pd.DataFrame(data) \n",
    "print(\"before\")\n",
    "print(df)\n",
    "df.interpolate(method = \"linear\" , inplace = True)\n",
    "print(df)"
   ]
  },
  {
   "cell_type": "code",
   "execution_count": 2,
   "id": "3ae47aa7-638b-49e7-90a7-45f1e90a65f1",
   "metadata": {},
   "outputs": [
    {
     "name": "stdout",
     "output_type": "stream",
     "text": [
      "before sorting\n",
      "    name  age  salary\n",
      "0    ram   26    9000\n",
      "1  gopal   19    1000\n",
      "2   aman   40    3000\n",
      "3   sita   32    8000\n",
      "    name  age  salary\n",
      "1  gopal   19    1000\n",
      "0    ram   26    9000\n",
      "3   sita   32    8000\n",
      "2   aman   40    3000\n"
     ]
    }
   ],
   "source": [
    "#SORTING \n",
    "\n",
    "import pandas as pd \n",
    "data = {\n",
    "    \"name\" : [ \"ram\" , \"gopal\" , \"aman\" , \"sita\"],\n",
    "    \"age\" : [ 26 , 19 , 40, 32],\n",
    "    \"salary\" : [9000 , 1000, 3000,8000]}\n",
    "\n",
    "df = pd.DataFrame(data)\n",
    "print(\"before sorting\")\n",
    "print(df)\n",
    "df.sort_values(by = [\"age\" , \"name\", \"salary\"] , ascending = [ True , False, False] , inplace = True )\n",
    "print(df)\n",
    "                     \n"
   ]
  },
  {
   "cell_type": "code",
   "execution_count": 4,
   "id": "13a09f5e-0584-46cf-babd-3d00c2e605d8",
   "metadata": {},
   "outputs": [
    {
     "name": "stdout",
     "output_type": "stream",
     "text": [
      "5250.0\n",
      "40\n",
      "21000\n",
      "1000\n"
     ]
    }
   ],
   "source": [
    "#AGGRESSION \n",
    "import pandas as pd \n",
    "data = {\n",
    "    \"name\" : [ \"ram\" , \"gopal\" , \"aman\" , \"sita\"],\n",
    "    \"age\" : [ 26 , 19 , 40, 32],\n",
    "    \"salary\" : [9000 , 1000, 3000,8000]}\n",
    "\n",
    "df = pd.DataFrame(data)\n",
    "avg_salary = df[\"salary\"].mean()\n",
    "max_age = df[\"age\"].max()\n",
    "total_salary = df[\"salary\"].sum()\n",
    "min_salary = df[\"salary\"].min()\n",
    "print(avg_salary)\n",
    "print(max_age)\n",
    "print(total_salary)\n",
    "print(min_salary)\n",
    "\n"
   ]
  },
  {
   "cell_type": "code",
   "execution_count": 5,
   "id": "905fe4db-3c03-457d-905b-ba98c98e9132",
   "metadata": {},
   "outputs": [
    {
     "name": "stdout",
     "output_type": "stream",
     "text": [
      "age\n",
      "26    10000\n",
      "32    17500\n",
      "40     6400\n",
      "Name: salary, dtype: int64\n"
     ]
    }
   ],
   "source": [
    "# GROUP BY \n",
    "\n",
    "import pandas as pd \n",
    "data = {\n",
    "    \"name\" : [ \"ram\" , \"gopal\" , \"aman\" , \"sita\" , \"geeta\" , \"sona\"],\n",
    "    \"age\" : [ 26 , 26 , 40, 32 , 40 , 32],\n",
    "    \"salary\" : [9000 , 1000, 3000,8000 , 3400 , 9500]}\n",
    "\n",
    "df = pd.DataFrame(data)\n",
    "grouped = df.groupby(\"age\")[\"salary\"].sum()\n",
    "print(grouped)\n"
   ]
  },
  {
   "cell_type": "code",
   "execution_count": 9,
   "id": "0135aea7-ede3-4f12-be4b-7f2116021953",
   "metadata": {},
   "outputs": [
    {
     "name": "stdout",
     "output_type": "stream",
     "text": [
      "by using inner merge\n",
      "   customer_id customer_name  orderd\n",
      "0            1         rahul    2000\n",
      "1            2        govind   60000\n",
      "by using outer merge\n",
      "   customer_id customer_name   orderd\n",
      "0            1         rahul   2000.0\n",
      "1            2        govind  60000.0\n",
      "2            3       sikhsha      NaN\n",
      "3            4           NaN  34000.0\n",
      "by using left merge\n",
      "   customer_id customer_name   orderd\n",
      "0            1         rahul   2000.0\n",
      "1            2        govind  60000.0\n",
      "2            3       sikhsha      NaN\n",
      "by using right merge\n",
      "   customer_id customer_name  orderd\n",
      "0            1         rahul    2000\n",
      "1            2        govind   60000\n",
      "2            4           NaN   34000\n"
     ]
    }
   ],
   "source": [
    "# MERGINING \n",
    "\n",
    "import pandas as pd \n",
    "customer = {\n",
    "    \"customer_id\" :[1,2,3],\n",
    "    \"customer_name\" :[\"rahul\" ,\"govind\" , \"sikhsha\"]}\n",
    "\n",
    "ordered = {\n",
    "    \"customer_id\" :[1,2,4],\n",
    "    \"orderd\" :[2000,60000 , 34000]}\n",
    "df_customer = pd.DataFrame(customer)\n",
    "df_ordered = pd.DataFrame(ordered)\n",
    "\n",
    "merge1 = pd.merge(df_customer , df_ordered , on = \"customer_id\"  , how = \"inner\")\n",
    "print(\"by using inner merge\")\n",
    "print(merge1)\n",
    "\n",
    "merge2 = pd.merge(df_customer , df_ordered , on = \"customer_id\"   , how = \"outer\")\n",
    "print(\"by using outer merge\")\n",
    "print(merge2)\n",
    "\n",
    "merge3 = pd.merge(df_customer , df_ordered , on = \"customer_id\"  , how = \"left\")\n",
    "print(\"by using left merge\")\n",
    "print(merge3)\n",
    "\n",
    "merge4 = pd.merge(df_customer , df_ordered , on = \"customer_id\"  , how = \"right\")\n",
    "print(\"by using right merge\")\n",
    "print(merge4)\n",
    "\n",
    "\n",
    "\n"
   ]
  },
  {
   "cell_type": "code",
   "execution_count": 12,
   "id": "3d2fb3a9-241e-4d58-a54c-76669b4f3c3f",
   "metadata": {},
   "outputs": [
    {
     "name": "stdout",
     "output_type": "stream",
     "text": [
      "   customer_id customer_name   orderd\n",
      "0            1         rahul      NaN\n",
      "1            2        govind      NaN\n",
      "2            3       sikhsha      NaN\n",
      "0            1           NaN   2000.0\n",
      "1            2           NaN  60000.0\n",
      "2            4           NaN  34000.0\n"
     ]
    }
   ],
   "source": [
    "#concat()\n",
    "\n",
    "import pandas as pd \n",
    "customer = {\n",
    "    \"customer_id\" :[1,2,3],\n",
    "    \"customer_name\" :[\"rahul\" ,\"govind\" , \"sikhsha\"]}\n",
    "\n",
    "ordered = {\n",
    "    \"customer_id\" :[1,2,4],\n",
    "    \"orderd\" :[2000,60000 , 34000]}\n",
    "df_customer = pd.DataFrame(customer)\n",
    "df_ordered = pd.DataFrame(ordered)\n",
    "\n",
    "concatenate = pd.concat([df_customer , df_ordered])\n",
    "print(concatenate)"
   ]
  },
  {
   "cell_type": "code",
   "execution_count": null,
   "id": "7b8f07a0-a8ea-4eeb-b892-c647a13d73bd",
   "metadata": {},
   "outputs": [],
   "source": []
  }
 ],
 "metadata": {
  "kernelspec": {
   "display_name": "Python 3 (ipykernel)",
   "language": "python",
   "name": "python3"
  },
  "language_info": {
   "codemirror_mode": {
    "name": "ipython",
    "version": 3
   },
   "file_extension": ".py",
   "mimetype": "text/x-python",
   "name": "python",
   "nbconvert_exporter": "python",
   "pygments_lexer": "ipython3",
   "version": "3.12.4"
  }
 },
 "nbformat": 4,
 "nbformat_minor": 5
}
