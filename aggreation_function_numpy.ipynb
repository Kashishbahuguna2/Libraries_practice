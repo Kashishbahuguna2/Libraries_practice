{
 "cells": [
  {
   "cell_type": "code",
   "execution_count": 1,
   "id": "f32047bb-c84d-4b10-9911-7a681277b007",
   "metadata": {},
   "outputs": [
    {
     "name": "stdout",
     "output_type": "stream",
     "text": [
      "the sum of the array is: 150\n"
     ]
    }
   ],
   "source": [
    "# sum function \n",
    "import numpy as np \n",
    "arr = np.array([10,20,30,40,50])\n",
    "sum = np.sum(arr)\n",
    "print(\"the sum of the array is:\",sum)"
   ]
  },
  {
   "cell_type": "code",
   "execution_count": 2,
   "id": "343bb92d-4db4-49ed-99b9-2c9a1b2b6ebf",
   "metadata": {},
   "outputs": [
    {
     "name": "stdout",
     "output_type": "stream",
     "text": [
      "50\n"
     ]
    }
   ],
   "source": [
    "#max function \n",
    "import numpy as np \n",
    "arr = np.array([10,20,30,40,50])\n",
    "max = np.max(arr)\n",
    "print(max)"
   ]
  },
  {
   "cell_type": "code",
   "execution_count": 3,
   "id": "d825918c-84d6-484d-bd23-6b1b910a9933",
   "metadata": {},
   "outputs": [
    {
     "name": "stdout",
     "output_type": "stream",
     "text": [
      "10\n"
     ]
    }
   ],
   "source": [
    "#minfunction \n",
    "import numpy as np\n",
    "arr = np.array([10,20,30,40,50])\n",
    "min = np.min(arr)\n",
    "print(min)"
   ]
  },
  {
   "cell_type": "code",
   "execution_count": 6,
   "id": "f9c49a1c-9446-480d-9769-31ea786e8816",
   "metadata": {},
   "outputs": [
    {
     "name": "stdout",
     "output_type": "stream",
     "text": [
      "30.0\n"
     ]
    }
   ],
   "source": [
    "# mean  function \n",
    "import numpy as np\n",
    "arr = np.array([10,20,30,40,50])\n",
    "mean= np.mean(arr)\n",
    "print(mean)"
   ]
  },
  {
   "cell_type": "code",
   "execution_count": 8,
   "id": "4692a7db-05be-489f-b9e8-c8d4b0d8c53b",
   "metadata": {},
   "outputs": [
    {
     "name": "stdout",
     "output_type": "stream",
     "text": [
      "35.0\n"
     ]
    }
   ],
   "source": [
    "# median function \n",
    "import numpy as np \n",
    "arr = np.array([10,20,30,40,50,60])\n",
    "median = np.median(arr)\n",
    "print(median)"
   ]
  },
  {
   "cell_type": "code",
   "execution_count": 10,
   "id": "eddcc237-c7ff-4440-8243-f364dad118ea",
   "metadata": {},
   "outputs": [
    {
     "name": "stdout",
     "output_type": "stream",
     "text": [
      "15.723301886761007\n"
     ]
    }
   ],
   "source": [
    "# standard deviation  function \n",
    "import numpy as np \n",
    "arr = np.array([10,20,30,40,30,60])\n",
    "standard_deviation = np.std(arr)\n",
    "print(standard_deviation )"
   ]
  },
  {
   "cell_type": "code",
   "execution_count": 11,
   "id": "a8d161ce-5dc6-419a-a646-4176975cc474",
   "metadata": {},
   "outputs": [
    {
     "name": "stdout",
     "output_type": "stream",
     "text": [
      "247.22222222222226\n"
     ]
    }
   ],
   "source": [
    "# variance function \n",
    "import numpy as np \n",
    "arr = np.array([10,20,30,40,30,60])\n",
    "variance  = np.var(arr)\n",
    "print(variance)"
   ]
  },
  {
   "cell_type": "code",
   "execution_count": 13,
   "id": "c64842c2-d7c6-4e40-9899-d1ea201a33f7",
   "metadata": {},
   "outputs": [
    {
     "name": "stdout",
     "output_type": "stream",
     "text": [
      "296.6666666666667\n"
     ]
    }
   ],
   "source": [
    "#  co variance function \n",
    "import numpy as np \n",
    "arr = np.array([10,20,30,40,30,60])\n",
    "co_variance  = np.cov(arr)\n",
    "print(co_variance)"
   ]
  },
  {
   "cell_type": "code",
   "execution_count": 4,
   "id": "a422e656-0b82-485c-8818-043a9093d7ff",
   "metadata": {},
   "outputs": [
    {
     "name": "stdout",
     "output_type": "stream",
     "text": [
      "[ 1  2 10  3  4  5]\n",
      "[ 1  2 10  3  4  5]\n"
     ]
    }
   ],
   "source": [
    "# insert \n",
    "#np.insert(array_name , index , value , axis )\n",
    "# axis = 0 (rows)\n",
    "# axis = 1 (column)\n",
    "# axis = none \n",
    "\n",
    "# for 1d array \n",
    "\n",
    "import numpy as np \n",
    "arr = np.array([1,2,3,4,5])\n",
    "new_arr = np.insert(arr,2,10,axis = None)\n",
    "print(new_arr)\n",
    "new_arr1 = np.insert(arr,2,10,axis = 0)\n",
    "print(new_arr1)\n",
    "#new_arr2 = np.insert(arr,2,10,axis = 1)( we can't use axis = 1 in 1d array)\n",
    "#print(new_arr2)\n",
    "\n"
   ]
  },
  {
   "cell_type": "code",
   "execution_count": 14,
   "id": "16d9a9c7-c62d-469a-bc3d-3440ded994e2",
   "metadata": {},
   "outputs": [
    {
     "name": "stdout",
     "output_type": "stream",
     "text": [
      "[ 1  2 10 11  4  5]\n",
      "[[ 1  2 10]\n",
      " [ 4  5 11]]\n",
      "[[ 1  2]\n",
      " [ 4  5]\n",
      " [10 11]]\n"
     ]
    }
   ],
   "source": [
    "# insert for 2d array \n",
    "\n",
    "import numpy as np\n",
    "arr = np.array([[1,2],[4,5]])\n",
    "new_arr = np.insert(arr , 2 , [10,11], axis = None)\n",
    "print(new_arr)\n",
    "new_arr1 = np.insert(arr , 2 , [10,11] , axis = 1)\n",
    "print(new_arr1)\n",
    "new_arr2 = np.insert(arr , 2 , [10,11], axis = 0)\n",
    "print(new_arr2)"
   ]
  },
  {
   "cell_type": "code",
   "execution_count": 15,
   "id": "a04f1dee-730b-4d41-9109-7f599c6b39a0",
   "metadata": {},
   "outputs": [
    {
     "name": "stdout",
     "output_type": "stream",
     "text": [
      "[10 20 30 40 50 60 70 80 90]\n"
     ]
    }
   ],
   "source": [
    "# append \n",
    "\n",
    "import numpy as np \n",
    "arr = np.array([10,20,30,40])\n",
    "new_array = np.append(arr , [50,60,70,80,90])\n",
    "print(new_array)"
   ]
  },
  {
   "cell_type": "code",
   "execution_count": 5,
   "id": "6d754d7a-ed26-40b2-b349-c735dc197197",
   "metadata": {},
   "outputs": [
    {
     "name": "stdout",
     "output_type": "stream",
     "text": [
      "[ 1  2  3  4  5  6  7  8  9 10 11 12]\n"
     ]
    }
   ],
   "source": [
    "# concatenation\n",
    "# 1d array\n",
    "\n",
    "import numpy as np \n",
    "arr1 = np.array([1,2,3,4])\n",
    "arr2 = np.array([5,6,7,8])\n",
    "arr3 = np.array([9,10,11,12])\n",
    "new_arr = np.concatenate((arr1 , arr2 , arr3) ,axis= 0)\n",
    "print(new_arr)"
   ]
  },
  {
   "cell_type": "code",
   "execution_count": 6,
   "id": "40db2c65-fcbe-41c8-a7ac-e490139c8f57",
   "metadata": {},
   "outputs": [
    {
     "name": "stdout",
     "output_type": "stream",
     "text": [
      "[[ 1  2  3]\n",
      " [ 4  5  6]\n",
      " [ 7  8  9]\n",
      " [10 20 30]\n",
      " [40 50 60]\n",
      " [70 80 90]]\n",
      "[[ 1  2  3 10 20 30]\n",
      " [ 4  5  6 40 50 60]\n",
      " [ 7  8  9 70 80 90]]\n"
     ]
    }
   ],
   "source": [
    "#2d array \n",
    "\n",
    "import numpy as np \n",
    "arr1 = np.array([[1,2,3],[4,5,6],[7,8,9]])\n",
    "arr2 = np.array([[10,20,30],[40,50,60],[70,80,90]])\n",
    "new_arr1 = np.concatenate((arr1,arr2), axis = 0)\n",
    "print(new_arr1)\n",
    "new_arr2 = np.concatenate((arr1,arr2), axis = 1)\n",
    "print(new_arr2)"
   ]
  },
  {
   "cell_type": "code",
   "execution_count": 7,
   "id": "a7694c7e-9fab-4e62-9492-14b3eaf7956d",
   "metadata": {},
   "outputs": [
    {
     "name": "stdout",
     "output_type": "stream",
     "text": [
      "[[1 2 3]]\n",
      "[[1 3]\n",
      " [4 6]]\n"
     ]
    }
   ],
   "source": [
    "#delete \n",
    "\n",
    "import numpy as np \n",
    "arr1 = np.array([[1,2,3],[4,5,6]])\n",
    "new_arr1 = np.delete(arr1 , 1 , axis= 0)\n",
    "new_arr2 = np.delete(arr1 , 1 , axis= 1)\n",
    "print(new_arr1)\n",
    "print(new_arr2)\n"
   ]
  },
  {
   "cell_type": "code",
   "execution_count": 9,
   "id": "c02415ea-af49-407d-9368-42fec92fc5e4",
   "metadata": {},
   "outputs": [
    {
     "name": "stdout",
     "output_type": "stream",
     "text": [
      "[[1 2 3]\n",
      " [8 9 7]]\n",
      "[1 2 3 8 9 7]\n"
     ]
    }
   ],
   "source": [
    "# stacking means merging two arrays\n",
    "# v stacking means vertical stacking - rowwise merge the arrays \n",
    "# h stacking means horizontal stacking - columnwise merge the arrays \n",
    "\n",
    "import numpy as np \n",
    "arr1 = np.array([1,2,3])\n",
    "arr2 = np.array([8,9,7])\n",
    "new_arr1 = np.vstack((arr1, arr2))\n",
    "new_arr2 = np.hstack((arr1, arr2))\n",
    "print(new_arr1)\n",
    "print(new_arr2)\n",
    "\n"
   ]
  },
  {
   "cell_type": "code",
   "execution_count": 21,
   "id": "9b26e9b4-b75b-47cb-b305-389b8ea04f58",
   "metadata": {},
   "outputs": [
    {
     "name": "stdout",
     "output_type": "stream",
     "text": [
      "[array([[10, 20, 30],\n",
      "       [40, 50, 60]]), array([[ 70,  80,  90],\n",
      "       [100, 110, 120]])]\n"
     ]
    }
   ],
   "source": [
    "# splitting \n",
    "#hsplit\n",
    "#vsplit\n",
    "# split and h split work same \n",
    "import numpy as np\n",
    "arr = np.array([[10,20,30],[40,50,60],[70,80,90] , [100,110,120]])\n",
    "split_arr3= np.vsplit(arr , 2)\n",
    "print(split_arr3)\n"
   ]
  },
  {
   "cell_type": "code",
   "execution_count": 1,
   "id": "963ef37b-d8c3-4e75-9212-18f48fe6bc7e",
   "metadata": {},
   "outputs": [
    {
     "name": "stdout",
     "output_type": "stream",
     "text": [
      "[array([10, 20, 30, 40, 50, 60]), array([ 70,  80,  90, 100, 110, 120])]\n"
     ]
    }
   ],
   "source": [
    "import numpy as np\n",
    "arr = np.array([10,20,30,40,50,60,70,80,90,100,110,120])\n",
    "split_arr3= np.hsplit(arr , 2)\n",
    "print(split_arr3)\n"
   ]
  },
  {
   "cell_type": "code",
   "execution_count": null,
   "id": "83a4b6b9-10b2-44cf-a71f-b72f1d0190f2",
   "metadata": {},
   "outputs": [],
   "source": []
  }
 ],
 "metadata": {
  "kernelspec": {
   "display_name": "Python 3 (ipykernel)",
   "language": "python",
   "name": "python3"
  },
  "language_info": {
   "codemirror_mode": {
    "name": "ipython",
    "version": 3
   },
   "file_extension": ".py",
   "mimetype": "text/x-python",
   "name": "python",
   "nbconvert_exporter": "python",
   "pygments_lexer": "ipython3",
   "version": "3.12.4"
  }
 },
 "nbformat": 4,
 "nbformat_minor": 5
}
