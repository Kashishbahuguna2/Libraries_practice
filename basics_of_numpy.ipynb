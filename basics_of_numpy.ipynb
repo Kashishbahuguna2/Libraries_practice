{
 "cells": [
  {
   "cell_type": "code",
   "execution_count": 1,
   "id": "7c57d9e8-8121-4d0e-8382-7401eedaf18d",
   "metadata": {},
   "outputs": [
    {
     "name": "stdout",
     "output_type": "stream",
     "text": [
      "hello kashish\n"
     ]
    }
   ],
   "source": [
    "print(\"hello kashish\")"
   ]
  },
  {
   "cell_type": "code",
   "execution_count": 4,
   "id": "07d9fea2-67c1-45a9-92bf-21955149b8c7",
   "metadata": {},
   "outputs": [
    {
     "name": "stdout",
     "output_type": "stream",
     "text": [
      "[1, 2, 3, 4, 5, 6, 7, 8]\n",
      "[1 2 3 4 5 6 7 8]\n"
     ]
    }
   ],
   "source": [
    "import numpy as np \n",
    "python_list = [1,2,3,4,5,6,7,8]\n",
    "print(python_list)\n",
    "\n",
    "numpy_array = np.array([1,2,3,4,5,6,7,8])\n",
    "print(numpy_array)"
   ]
  },
  {
   "cell_type": "code",
   "execution_count": 6,
   "id": "42d57e28-fc15-49dd-b542-df608e0fd03f",
   "metadata": {},
   "outputs": [
    {
     "name": "stdout",
     "output_type": "stream",
     "text": [
      "[1 2 3 4 5 6]\n"
     ]
    }
   ],
   "source": [
    "# 1-d array \n",
    "import numpy as np \n",
    "oned_array = np.array([1,2,3,4,5,6])\n",
    "print(oned_array)"
   ]
  },
  {
   "cell_type": "code",
   "execution_count": 19,
   "id": "ea587741-3d3f-47d4-a009-be8b947e9fae",
   "metadata": {},
   "outputs": [
    {
     "name": "stdout",
     "output_type": "stream",
     "text": [
      "[[1 2 3]\n",
      " [4 6 9]\n",
      " [3 5 7]]\n"
     ]
    }
   ],
   "source": [
    "# 2 D aaray \n",
    "import numpy as np \n",
    "arr_2D = np.array([[1,2,3],[4,6,9] ,[3,5,7]])\n",
    "print(arr_2D)"
   ]
  },
  {
   "cell_type": "code",
   "execution_count": 20,
   "id": "a7faa4ec-648e-42a6-90ed-ff49921064a4",
   "metadata": {},
   "outputs": [
    {
     "name": "stdout",
     "output_type": "stream",
     "text": [
      "[[ 1  1  2 34  4]\n",
      " [ 2  3  4  5  6]\n",
      " [ 8  9  9  6  4]\n",
      " [ 4  5  3  2  3]]\n"
     ]
    }
   ],
   "source": [
    "# multi demensional array \n",
    "import numpy as np \n",
    "matrix = np.array([[1,1,2,34,4],[2,3,4,5,6],[8,9,9,6,4],[4,5,3,2,3]])\n",
    "print(matrix)"
   ]
  },
  {
   "cell_type": "code",
   "execution_count": 21,
   "id": "c99ab6be-174f-47d9-a29c-b3154c5a962b",
   "metadata": {},
   "outputs": [
    {
     "name": "stdout",
     "output_type": "stream",
     "text": [
      "[[0. 0. 0. 0.]\n",
      " [0. 0. 0. 0.]]\n"
     ]
    }
   ],
   "source": [
    "# zeros function \n",
    "import numpy as np \n",
    "arr_zeros = np.zeros((2,4))\n",
    "print(arr_zeros)"
   ]
  },
  {
   "cell_type": "code",
   "execution_count": 23,
   "id": "8d5d0467-0314-45f5-83dd-98fc3565c622",
   "metadata": {},
   "outputs": [
    {
     "name": "stdout",
     "output_type": "stream",
     "text": [
      "[[1. 1. 1. 1. 1. 1.]\n",
      " [1. 1. 1. 1. 1. 1.]\n",
      " [1. 1. 1. 1. 1. 1.]\n",
      " [1. 1. 1. 1. 1. 1.]\n",
      " [1. 1. 1. 1. 1. 1.]\n",
      " [1. 1. 1. 1. 1. 1.]]\n"
     ]
    }
   ],
   "source": [
    "# ones function \n",
    "import numpy as np \n",
    "arr_ones = np.ones((6,6))\n",
    "print(arr_ones)"
   ]
  },
  {
   "cell_type": "code",
   "execution_count": 24,
   "id": "51eda338-899c-42c9-be90-f029b98ca506",
   "metadata": {},
   "outputs": [
    {
     "name": "stdout",
     "output_type": "stream",
     "text": [
      "[[5 5 5]\n",
      " [5 5 5]\n",
      " [5 5 5]]\n"
     ]
    }
   ],
   "source": [
    "# full function \n",
    "import numpy as np \n",
    "arr_full = np.full((3,3) , 5)\n",
    "print(arr_full)"
   ]
  },
  {
   "cell_type": "code",
   "execution_count": 26,
   "id": "91bd8985-3460-4315-9ff0-5df75dd36eac",
   "metadata": {},
   "outputs": [
    {
     "name": "stdout",
     "output_type": "stream",
     "text": [
      "[1 2 3 4 5 6 7 8 9]\n",
      "[ 2  4  6  8 10 12 14 16 18]\n"
     ]
    }
   ],
   "source": [
    "# arange function work same as range function \n",
    "import numpy as np \n",
    "arange = np.arange(1,10)\n",
    "print(arange)\n",
    "arange1 = np.arange(2,20,2)\n",
    "print(arange1)"
   ]
  },
  {
   "cell_type": "code",
   "execution_count": 27,
   "id": "1a542b01-db7e-406a-8fed-d77902b1bef8",
   "metadata": {},
   "outputs": [
    {
     "name": "stdout",
     "output_type": "stream",
     "text": [
      "[[1. 0. 0. 0. 0.]\n",
      " [0. 1. 0. 0. 0.]\n",
      " [0. 0. 1. 0. 0.]\n",
      " [0. 0. 0. 1. 0.]\n",
      " [0. 0. 0. 0. 1.]]\n"
     ]
    }
   ],
   "source": [
    "# creating identity matrix \n",
    "# by using eye function \n",
    "import numpy as np \n",
    "identity_matrix = np.eye(5)\n",
    "print(identity_matrix)"
   ]
  },
  {
   "cell_type": "code",
   "execution_count": 30,
   "id": "b6fdfdce-b999-4132-a4f6-5c6f2ac76168",
   "metadata": {},
   "outputs": [
    {
     "name": "stdout",
     "output_type": "stream",
     "text": [
      "[[1 2 3]\n",
      " [6 7 9]\n",
      " [8 0 7]]\n",
      "the size of array is: 9\n"
     ]
    }
   ],
   "source": [
    "# size  function ( use for finding the size of array)\n",
    "import numpy as np \n",
    "arr = np.array([[1,2,3],[6,7,9],[8,0,7]])\n",
    "size = arr.size \n",
    "print(arr)\n",
    "print(\"the size of array is:\", size)"
   ]
  },
  {
   "cell_type": "code",
   "execution_count": 31,
   "id": "690b5468-d03f-4c12-bd1a-d8e849b65830",
   "metadata": {},
   "outputs": [
    {
     "name": "stdout",
     "output_type": "stream",
     "text": [
      "[[2 4 7]\n",
      " [7 9 8]\n",
      " [2 3 4]]\n",
      " the shape of array is: (3, 3)\n"
     ]
    }
   ],
   "source": [
    "# shape function ( use for finding the shape of array)\n",
    "import numpy as np\n",
    "arr = np.array([[2,4,7],[7,9,8],[2,3,4]])\n",
    "shape = arr.shape\n",
    "print(arr)\n",
    "print(\" the shape of array is:\", shape)"
   ]
  },
  {
   "cell_type": "code",
   "execution_count": 36,
   "id": "f992699e-31de-40fb-b7d6-43a815645032",
   "metadata": {},
   "outputs": [
    {
     "name": "stdout",
     "output_type": "stream",
     "text": [
      "2\n"
     ]
    }
   ],
   "source": [
    "# ndim function ( use for finding the number of dimensions)\n",
    "import numpy as np \n",
    "arr = np.array([[2,3,4],[5,7,9],[9,4,6],[4,98,8]])\n",
    "ndim = arr.ndim\n",
    "print(ndim)"
   ]
  },
  {
   "cell_type": "code",
   "execution_count": 39,
   "id": "83db306e-d51b-4633-9db7-33a44ff2a306",
   "metadata": {},
   "outputs": [
    {
     "name": "stdout",
     "output_type": "stream",
     "text": [
      "[123.   23.   34.3   1. ]\n",
      "the type of array: float64\n"
     ]
    }
   ],
   "source": [
    "# dtype function ( use to find the type of the array )\n",
    "import numpy as np \n",
    "arr = np.array([123, 23, 34.3 ,True])\n",
    "print(arr)\n",
    "type = arr.dtype\n",
    "print(\"the type of array:\" , type)"
   ]
  },
  {
   "cell_type": "code",
   "execution_count": 41,
   "id": "1f2b9155-e2eb-43e6-a3df-9b2c70449eca",
   "metadata": {},
   "outputs": [
    {
     "name": "stdout",
     "output_type": "stream",
     "text": [
      "[ 23.   34.2 123. ]\n",
      "float64\n",
      "['23.0' '34.2' '123.0']\n",
      "<U32\n"
     ]
    }
   ],
   "source": [
    "# astype function (use to convert one data type to another data type\n",
    "import numpy as np \n",
    "arr = np.array([23, 34.2,123])\n",
    "print(arr)\n",
    "print(arr.dtype)\n",
    "new_arr = arr.astype(str)\n",
    "print(new_arr)\n",
    "print(new_arr.dtype)\n"
   ]
  },
  {
   "cell_type": "code",
   "execution_count": null,
   "id": "a280e6d0-48d3-45e4-aad5-ec583b14ebb0",
   "metadata": {},
   "outputs": [],
   "source": []
  },
  {
   "cell_type": "code",
   "execution_count": null,
   "id": "fe460794-c74b-4ae0-a23a-6ebef94b2dcd",
   "metadata": {},
   "outputs": [],
   "source": []
  },
  {
   "cell_type": "code",
   "execution_count": null,
   "id": "9f28cbb5-6e24-4672-ba11-cf3d4db0e531",
   "metadata": {},
   "outputs": [],
   "source": []
  }
 ],
 "metadata": {
  "kernelspec": {
   "display_name": "Python 3 (ipykernel)",
   "language": "python",
   "name": "python3"
  },
  "language_info": {
   "codemirror_mode": {
    "name": "ipython",
    "version": 3
   },
   "file_extension": ".py",
   "mimetype": "text/x-python",
   "name": "python",
   "nbconvert_exporter": "python",
   "pygments_lexer": "ipython3",
   "version": "3.12.4"
  }
 },
 "nbformat": 4,
 "nbformat_minor": 5
}
