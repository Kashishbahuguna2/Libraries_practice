{
 "cells": [
  {
   "cell_type": "code",
   "execution_count": 4,
   "id": "ac6abf81-e663-434e-9221-75b147f4d2c3",
   "metadata": {},
   "outputs": [
    {
     "name": "stdout",
     "output_type": "stream",
     "text": [
      "[90.0, 180.0, 270.0]\n"
     ]
    }
   ],
   "source": [
    "# using list \n",
    "prices = [100,200,300]\n",
    "discount = 10 \n",
    "new_prices = []\n",
    "for price in prices:\n",
    "    new_price  = price - (price*discount/100)\n",
    "    new_prices.append(new_price)\n",
    "print(new_prices)"
   ]
  },
  {
   "cell_type": "code",
   "execution_count": 5,
   "id": "5eea63d6-1f2a-4b41-8297-0628be611fad",
   "metadata": {},
   "outputs": [
    {
     "name": "stdout",
     "output_type": "stream",
     "text": [
      "[ 90. 180. 270. 360.]\n"
     ]
    }
   ],
   "source": [
    "# by using numpy \n",
    "import numpy as np \n",
    "price = np.array([100,200,300,400])\n",
    "discount = 10\n",
    "new_price = price - (price*discount/100)\n",
    "print(new_price)"
   ]
  },
  {
   "cell_type": "code",
   "execution_count": 6,
   "id": "91976e41-11fe-4ec9-804b-0761aecf6c0a",
   "metadata": {},
   "outputs": [
    {
     "name": "stdout",
     "output_type": "stream",
     "text": [
      "[12 22 32 42 52]\n"
     ]
    }
   ],
   "source": [
    "import numpy as np \n",
    "arr = np.array([10,20,30,40,50])\n",
    "new_arr = arr +2\n",
    "print(new_arr)\n"
   ]
  },
  {
   "cell_type": "code",
   "execution_count": 8,
   "id": "4aced222-e8d7-480f-afda-3ba32cf18d43",
   "metadata": {},
   "outputs": [
    {
     "name": "stdout",
     "output_type": "stream",
     "text": [
      "[ 20  40  60  80 100]\n",
      "[0 0 0 0 0]\n",
      "[ 100  400  900 1600 2500]\n",
      "[1. 1. 1. 1. 1.]\n"
     ]
    }
   ],
   "source": [
    "import numpy as np \n",
    "arr1 = np.array([10,20,30,40,50])\n",
    "arr2 = np.array([10,20,30,40,50])\n",
    "new_arr = arr1 +arr2\n",
    "new_arr1 = arr1 -arr2\n",
    "new_arr2 = arr1 *arr2\n",
    "new_arr3 = arr1 /arr2\n",
    "print(new_arr)\n",
    "print(new_arr1)\n",
    "print(new_arr2)\n",
    "print(new_arr3)\n",
    "\n"
   ]
  },
  {
   "cell_type": "code",
   "execution_count": 9,
   "id": "1e255aa3-3183-4704-a668-6c536eed73ac",
   "metadata": {},
   "outputs": [
    {
     "name": "stdout",
     "output_type": "stream",
     "text": [
      "[20 30 40 50 60]\n",
      "[ 0 10 20 30 40]\n",
      "[100 200 300 400 500]\n",
      "[1. 2. 3. 4. 5.]\n"
     ]
    }
   ],
   "source": [
    "import numpy as np \n",
    "arr1 = np.array([10,20,30,40,50])\n",
    "arr2 = np.array([10])\n",
    "new_arr = arr1 +arr2\n",
    "new_arr1 = arr1 -arr2\n",
    "new_arr2 = arr1 *arr2\n",
    "new_arr3 = arr1 /arr2\n",
    "print(new_arr)\n",
    "print(new_arr1)\n",
    "print(new_arr2)\n",
    "print(new_arr3)\n"
   ]
  },
  {
   "cell_type": "code",
   "execution_count": 10,
   "id": "c0bfc49d-10e6-4ff9-b8e5-7649ae384473",
   "metadata": {},
   "outputs": [
    {
     "name": "stdout",
     "output_type": "stream",
     "text": [
      "[[ 20  40  60]\n",
      " [ 80 100 120]]\n",
      "[[0 0 0]\n",
      " [0 0 0]]\n",
      "[[ 100  400  900]\n",
      " [1600 2500 3600]]\n",
      "[[1. 1. 1.]\n",
      " [1. 1. 1.]]\n"
     ]
    }
   ],
   "source": [
    "import numpy as np \n",
    "arr1 = np.array([[10,20,30],[40,50,60]])\n",
    "arr2 = np.array([[10,20,30],[40,50,60]])\n",
    "new_arr = arr1 +arr2\n",
    "new_arr1 = arr1 -arr2\n",
    "new_arr2 = arr1 *arr2\n",
    "new_arr3 = arr1 /arr2\n",
    "print(new_arr)\n",
    "print(new_arr1)\n",
    "print(new_arr2)\n",
    "print(new_arr3)\n"
   ]
  },
  {
   "cell_type": "code",
   "execution_count": 12,
   "id": "30d64744-c20b-412a-acaa-4f6991cdfdaf",
   "metadata": {},
   "outputs": [
    {
     "name": "stdout",
     "output_type": "stream",
     "text": [
      "[[20 40 60]\n",
      " [50 70 90]]\n",
      "[[ 0  0  0]\n",
      " [30 30 30]]\n",
      "[[ 100  400  900]\n",
      " [ 400 1000 1800]]\n",
      "[[1.  1.  1. ]\n",
      " [4.  2.5 2. ]]\n"
     ]
    }
   ],
   "source": [
    "arr1 = np.array([[10,20,30],[40,50,60]])\n",
    "arr2 = np.array([10,20,30])\n",
    "new_arr = arr1 +arr2\n",
    "new_arr1 = arr1 -arr2\n",
    "new_arr2 = arr1 *arr2\n",
    "new_arr3 = arr1 /arr2\n",
    "\n",
    "print(new_arr)\n",
    "print(new_arr1)\n",
    "print(new_arr2)\n",
    "print(new_arr3)\n",
    "\n"
   ]
  },
  {
   "cell_type": "code",
   "execution_count": 17,
   "id": "07f48546-9923-47ce-aa91-d571e1d36cfd",
   "metadata": {},
   "outputs": [
    {
     "ename": "ValueError",
     "evalue": "operands could not be broadcast together with shapes (2,3) (2,) ",
     "output_type": "error",
     "traceback": [
      "\u001b[1;31m---------------------------------------------------------------------------\u001b[0m",
      "\u001b[1;31mValueError\u001b[0m                                Traceback (most recent call last)",
      "Cell \u001b[1;32mIn[17], line 3\u001b[0m\n\u001b[0;32m      1\u001b[0m arr1 \u001b[38;5;241m=\u001b[39m np\u001b[38;5;241m.\u001b[39marray([[\u001b[38;5;241m10\u001b[39m,\u001b[38;5;241m20\u001b[39m,\u001b[38;5;241m30\u001b[39m],[\u001b[38;5;241m40\u001b[39m,\u001b[38;5;241m50\u001b[39m,\u001b[38;5;241m60\u001b[39m]])\n\u001b[0;32m      2\u001b[0m arr2 \u001b[38;5;241m=\u001b[39m np\u001b[38;5;241m.\u001b[39marray([\u001b[38;5;241m10\u001b[39m,\u001b[38;5;241m20\u001b[39m])\n\u001b[1;32m----> 3\u001b[0m new_arr \u001b[38;5;241m=\u001b[39m arr1 \u001b[38;5;241m+\u001b[39marr2\n\u001b[0;32m      4\u001b[0m new_arr1 \u001b[38;5;241m=\u001b[39m arr1 \u001b[38;5;241m-\u001b[39marr2\n\u001b[0;32m      5\u001b[0m new_arr2 \u001b[38;5;241m=\u001b[39m arr1 \u001b[38;5;241m*\u001b[39marr2\n",
      "\u001b[1;31mValueError\u001b[0m: operands could not be broadcast together with shapes (2,3) (2,) "
     ]
    }
   ],
   "source": [
    "arr1 = np.array([[10,20,30],[40,50,60]])\n",
    "arr2 = np.array([10,20])\n",
    "new_arr = arr1 +arr2\n",
    "new_arr1 = arr1 -arr2\n",
    "new_arr2 = arr1 *arr2\n",
    "new_arr3 = arr1 /arr2\n",
    "\n",
    "print(new_arr)\n",
    "print(new_arr1)\n",
    "print(new_arr2)\n",
    "print(new_arr3)"
   ]
  },
  {
   "cell_type": "code",
   "execution_count": null,
   "id": "565bbd65-6ae3-422e-8a04-716d386cb64e",
   "metadata": {},
   "outputs": [],
   "source": []
  }
 ],
 "metadata": {
  "kernelspec": {
   "display_name": "Python 3 (ipykernel)",
   "language": "python",
   "name": "python3"
  },
  "language_info": {
   "codemirror_mode": {
    "name": "ipython",
    "version": 3
   },
   "file_extension": ".py",
   "mimetype": "text/x-python",
   "name": "python",
   "nbconvert_exporter": "python",
   "pygments_lexer": "ipython3",
   "version": "3.12.4"
  }
 },
 "nbformat": 4,
 "nbformat_minor": 5
}
