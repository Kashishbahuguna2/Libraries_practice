{
 "cells": [
  {
   "cell_type": "code",
   "execution_count": 2,
   "id": "384f0576-c6d0-46ef-9e0b-642b02676823",
   "metadata": {},
   "outputs": [
    {
     "name": "stdout",
     "output_type": "stream",
     "text": [
      "10\n",
      "30\n",
      "50\n"
     ]
    }
   ],
   "source": [
    "# indexing in array \n",
    "# for 1d aaray we use arr_name[index]\n",
    "\n",
    "import numpy as np \n",
    "arr = np.array([10,20,30,40,50])\n",
    "print(arr[0])\n",
    "print(arr[2])\n",
    "print(arr[-1])"
   ]
  },
  {
   "cell_type": "code",
   "execution_count": 5,
   "id": "98ab72a7-a974-481e-bc71-88220ad5dac4",
   "metadata": {},
   "outputs": [
    {
     "name": "stdout",
     "output_type": "stream",
     "text": [
      "[[12 34 21 45]\n",
      " [23 67 87 90]\n",
      " [23 45 43 67]]\n",
      "45\n",
      "21\n"
     ]
    }
   ],
   "source": [
    "# indexing in array\n",
    "# for multi dimentional array we use arr_name[row,column]\n",
    "\n",
    "import numpy as np \n",
    "arr = np.array([[12,34,21,45],[23,67,87,90],[23,45,43,67]])\n",
    "print(arr)\n",
    "print(arr[2,1])\n",
    "print(arr[0,2])\n"
   ]
  },
  {
   "cell_type": "code",
   "execution_count": 6,
   "id": "46cd1c34-67f5-45d5-80da-e7de0d3683e6",
   "metadata": {},
   "outputs": [
    {
     "name": "stdout",
     "output_type": "stream",
     "text": [
      "[10 30 50]\n",
      "[20 30 40]\n",
      "[40 50 60]\n",
      "[10 20 30 40 50 60]\n",
      "[60 50 40 30 20 10]\n"
     ]
    }
   ],
   "source": [
    "# slicing in array \n",
    "\n",
    "import numpy as np \n",
    "arr = np.array([10,20,30,40,50,60])\n",
    "print(arr[0:6:2])\n",
    "print(arr[1:4])\n",
    "print(arr[3:])\n",
    "print(arr[:6])\n",
    "print(arr[ : :-1])"
   ]
  },
  {
   "cell_type": "code",
   "execution_count": 7,
   "id": "71f0a2b9-c0be-4533-b588-b6034d281e0a",
   "metadata": {},
   "outputs": [
    {
     "name": "stdout",
     "output_type": "stream",
     "text": [
      "[10 30 50 60 70 80]\n"
     ]
    }
   ],
   "source": [
    "# fancy indexing (selecting the multiple indexing at once )\n",
    "# list ke form mai index dete h \n",
    "import numpy as np \n",
    "arr = np.array([10,20,30,40,50,60,70,80,90])\n",
    "print(arr[[0,2,4,5,6,7,]])"
   ]
  },
  {
   "cell_type": "code",
   "execution_count": 11,
   "id": "b3df8ca1-a56d-4068-83e6-0374e1984486",
   "metadata": {},
   "outputs": [
    {
     "name": "stdout",
     "output_type": "stream",
     "text": [
      "[30 40 50 60 70 80 90]\n"
     ]
    }
   ],
   "source": [
    "# boolean masking or filtering \n",
    "import numpy as np \n",
    "arr = np.array([10,20,30,40,50,60,70,80,90])\n",
    "print(arr[arr>20] )"
   ]
  },
  {
   "cell_type": "code",
   "execution_count": 12,
   "id": "9d68c63c-ff2d-4795-9e38-bbe804531518",
   "metadata": {},
   "outputs": [
    {
     "name": "stdout",
     "output_type": "stream",
     "text": [
      "[ 10  20  30  40  50  60  70  80  90 100]\n",
      "[[ 10  20]\n",
      " [ 30  40]\n",
      " [ 50  60]\n",
      " [ 70  80]\n",
      " [ 90 100]]\n"
     ]
    }
   ],
   "source": [
    "# reshaping array \n",
    "# it does not create copy \n",
    "\n",
    "import numpy as np \n",
    "arr = np.array([10,20,30,40,50,60,70,80,90,100])\n",
    "reshape_arr = arr.reshape(5,2)\n",
    "print(arr)\n",
    "print(reshape_arr)"
   ]
  },
  {
   "cell_type": "code",
   "execution_count": 2,
   "id": "658228e0-5a99-4aee-a1e7-f8704cb572fb",
   "metadata": {},
   "outputs": [
    {
     "name": "stdout",
     "output_type": "stream",
     "text": [
      "[1 2 3 4 6 7 8 9]\n",
      "[1 2 3 4 6 7 8 9]\n"
     ]
    }
   ],
   "source": [
    "# flattering ( convert 2d array to 1d array)\n",
    "# ravel - view(changes will going to see in original array )\n",
    "# flatten - copy(changes will going to see in original array)\n",
    "\n",
    "import numpy as np \n",
    "arr = np.array([[1,2,3,4],[6,7,8,9]])\n",
    "print(arr.flatten())\n",
    "print(arr.ravel())\n"
   ]
  },
  {
   "cell_type": "code",
   "execution_count": null,
   "id": "4c57c59c-2e7d-46c4-b3b3-611e8022aec5",
   "metadata": {},
   "outputs": [],
   "source": []
  }
 ],
 "metadata": {
  "kernelspec": {
   "display_name": "Python 3 (ipykernel)",
   "language": "python",
   "name": "python3"
  },
  "language_info": {
   "codemirror_mode": {
    "name": "ipython",
    "version": 3
   },
   "file_extension": ".py",
   "mimetype": "text/x-python",
   "name": "python",
   "nbconvert_exporter": "python",
   "pygments_lexer": "ipython3",
   "version": "3.12.4"
  }
 },
 "nbformat": 4,
 "nbformat_minor": 5
}
