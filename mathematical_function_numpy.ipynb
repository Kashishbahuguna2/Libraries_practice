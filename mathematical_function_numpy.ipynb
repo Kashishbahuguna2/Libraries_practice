{
 "cells": [
  {
   "cell_type": "code",
   "execution_count": 5,
   "id": "8cdf726d-6fa7-4811-ab43-e2e7fc5043de",
   "metadata": {},
   "outputs": [
    {
     "name": "stdout",
     "output_type": "stream",
     "text": [
      "[10 20 30 40 50]\n",
      "[15 25 35 45 55]\n",
      "[ 5 15 25 35 45]\n",
      "[ 50 100 150 200 250]\n",
      "[ 2.  4.  6.  8. 10.]\n",
      "[ 2  4  6  8 10]\n",
      "[ 100  400  900 1600 2500]\n",
      "[0 0 0 0 0]\n"
     ]
    }
   ],
   "source": [
    "# mathmatical function (+,-,*,/,//,%,**)\n",
    "import numpy as np \n",
    "arr = np.array([10,20,30,40,50])\n",
    "print(arr)\n",
    "new_arr1 = arr+5\n",
    "print(new_arr1)\n",
    "new_arr2 = arr-5\n",
    "print(new_arr2)\n",
    "new_arr3 = arr*5\n",
    "print(new_arr3)\n",
    "new_arr4 = arr/5\n",
    "print(new_arr4)\n",
    "new_arr5 = arr//5\n",
    "print(new_arr5)\n",
    "new_arr6= arr**2\n",
    "print(new_arr6)\n",
    "new_arr7 = arr%2\n",
    "print(new_arr7)"
   ]
  },
  {
   "cell_type": "code",
   "execution_count": null,
   "id": "d86be294-ec57-4135-aa45-c0cd8c0609b1",
   "metadata": {},
   "outputs": [],
   "source": []
  }
 ],
 "metadata": {
  "kernelspec": {
   "display_name": "Python 3 (ipykernel)",
   "language": "python",
   "name": "python3"
  },
  "language_info": {
   "codemirror_mode": {
    "name": "ipython",
    "version": 3
   },
   "file_extension": ".py",
   "mimetype": "text/x-python",
   "name": "python",
   "nbconvert_exporter": "python",
   "pygments_lexer": "ipython3",
   "version": "3.12.4"
  }
 },
 "nbformat": 4,
 "nbformat_minor": 5
}
