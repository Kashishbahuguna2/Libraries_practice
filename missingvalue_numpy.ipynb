{
 "cells": [
  {
   "cell_type": "code",
   "execution_count": null,
   "id": "4e5299f6-f61d-4ba1-b6be-7016afafef0f",
   "metadata": {},
   "outputs": [],
   "source": [
    "'''\n",
    "three built function to handle missing values\n",
    "1 - np.isnan : find the mising value \n",
    "2- np.nan_to_num : replace mising value to number you will give \n",
    "3- np.isinf : check the infinity \n",
    "\n",
    "inf = infinity \n",
    "nan = not a number \n",
    "they result in boolean value and we can't camparen two nan value \n",
    "\n",
    "'''"
   ]
  },
  {
   "cell_type": "code",
   "execution_count": 2,
   "id": "70b6bbb2-7d0b-4003-81ab-e869c2a1dbc7",
   "metadata": {},
   "outputs": [
    {
     "name": "stdout",
     "output_type": "stream",
     "text": [
      "[ 1.  2. nan  4. nan nan  5.  6.  7. nan]\n",
      "[False False  True False  True  True False False False  True]\n"
     ]
    }
   ],
   "source": [
    "# np.isnan\n",
    "import numpy as np \n",
    "arr = np.array([1,2,np.nan , 4 , np.nan , np.nan ,5,6,7,np.nan])\n",
    "print(arr)\n",
    "missing_value = np.isnan(arr)\n",
    "print(missing_value)"
   ]
  },
  {
   "cell_type": "code",
   "execution_count": 3,
   "id": "2946fc39-bb1a-49b9-9aa3-533f54e33c26",
   "metadata": {},
   "outputs": [
    {
     "name": "stdout",
     "output_type": "stream",
     "text": [
      "[1. 2. 0. 4. 0. 0. 5. 6. 7. 0.]\n",
      "[  1.   2. 100.   4. 100. 100.   5.   6.   7. 100.]\n"
     ]
    }
   ],
   "source": [
    "# np.nan_to_num \n",
    "import numpy as np\n",
    "arr = np.array([1,2,np.nan , 4 , np.nan , np.nan ,5,6,7,np.nan])\n",
    "cleaned_arr1 = np.nan_to_num (arr )\n",
    "cleaned_arr2 = np.nan_to_num (arr , nan= 100)\n",
    "print(cleaned_arr1)\n",
    "print(cleaned_arr2)"
   ]
  },
  {
   "cell_type": "code",
   "execution_count": 4,
   "id": "efc8d91c-5d51-4f75-b083-5abba26b9137",
   "metadata": {},
   "outputs": [
    {
     "name": "stdout",
     "output_type": "stream",
     "text": [
      "[False False False  True False  True]\n"
     ]
    }
   ],
   "source": [
    "# np.isinf\n",
    "\n",
    "import numpy as np \n",
    "arr = np.array([1,2,3 ,np.inf , 5 , -np.inf ])\n",
    "bol=  np.isinf(arr)\n",
    "print(bol)"
   ]
  },
  {
   "cell_type": "code",
   "execution_count": 7,
   "id": "904f3d6a-a0ff-47f0-aa7b-9ee104704167",
   "metadata": {},
   "outputs": [
    {
     "name": "stdout",
     "output_type": "stream",
     "text": [
      "[   1.    2.    3.  100.    5. -100.]\n"
     ]
    }
   ],
   "source": [
    "#replacing the infinity value \n",
    "\n",
    "import numpy as np \n",
    "arr = np.array([1,2,3 ,np.inf , 5 , -np.inf ])\n",
    "cleaned_arr = np.nan_to_num(arr , posinf = 100 ,neginf = -100)\n",
    "print(cleaned_arr)\n"
   ]
  },
  {
   "cell_type": "code",
   "execution_count": null,
   "id": "6ecaa1a3-bb6d-4876-bf1f-14b1fed42177",
   "metadata": {},
   "outputs": [],
   "source": []
  }
 ],
 "metadata": {
  "kernelspec": {
   "display_name": "Python 3 (ipykernel)",
   "language": "python",
   "name": "python3"
  },
  "language_info": {
   "codemirror_mode": {
    "name": "ipython",
    "version": 3
   },
   "file_extension": ".py",
   "mimetype": "text/x-python",
   "name": "python",
   "nbconvert_exporter": "python",
   "pygments_lexer": "ipython3",
   "version": "3.12.4"
  }
 },
 "nbformat": 4,
 "nbformat_minor": 5
}
